{
 "cells": [
  {
   "cell_type": "code",
   "execution_count": 1,
   "metadata": {},
   "outputs": [],
   "source": [
    "data = {'3':\n",
    "         {'PeopleOrGroup': [{'bbox': [     1368.8,      834.38,      1508.8,      979.72], \n",
    "                             'conf':  0.36292, \n",
    "                             'score': -0.2443920617027773}], \n",
    "        'Vehicles': [{'bbox':[     503.73,      55.869,      827.05,      246.96],\n",
    "                      'conf': 0.34828, \n",
    "                      'score': -0.2721268258522326}], \n",
    "        'Person': [{'bbox': [     1439.6,      858.15,      1496.6,      984.91], 'conf':  0.33042, 'score': -0.3067402710099696}]}}"
   ]
  },
  {
   "cell_type": "code",
   "execution_count": 7,
   "metadata": {},
   "outputs": [],
   "source": [
    "results = [(key, val[0]['score']) for x in data.values() for key,val in x.items()]\n",
    "    "
   ]
  },
  {
   "cell_type": "code",
   "execution_count": 2,
   "metadata": {},
   "outputs": [
    {
     "name": "stdout",
     "output_type": "stream",
     "text": [
      "PeopleOrGroup\n",
      "-0.2443920617027773\n",
      "\n",
      "Vehicles\n",
      "-0.2721268258522326\n",
      "\n",
      "Person\n",
      "-0.3067402710099696\n",
      "\n"
     ]
    }
   ],
   "source": [
    "# need entity and score\n",
    "for x in data.values():\n",
    "    for key, val in x.items():\n",
    "        print(key)\n",
    "        print(val[0]['score'])\n",
    "        print()"
   ]
  },
  {
   "cell_type": "code",
   "execution_count": 13,
   "metadata": {},
   "outputs": [
    {
     "name": "stdout",
     "output_type": "stream",
     "text": [
      "PeopleOrGroup\n",
      "-0.2443920617027773\n",
      "Vehicles\n",
      "-0.2721268258522326\n",
      "Person\n",
      "-0.3067402710099696\n"
     ]
    }
   ],
   "source": [
    "for entity, score in results:\n",
    "    print(entity)\n",
    "    print(score)"
   ]
  },
  {
   "cell_type": "code",
   "execution_count": 18,
   "metadata": {},
   "outputs": [],
   "source": [
    "temp =  {'3': {'Symbol': [{'bbox': [     126.11,      91.725,       272.3,      187.51]\n",
    "                           , 'conf': 0.55397, \n",
    "                           'score': 0.0941215849387928}], \n",
    "                'Vehicles': [{'bbox':[     1.5874,       239.1,      632.08,      526.01], \n",
    "                              'conf': 0.49467, \n",
    "                              'score': -0.009254304183552803}]}}"
   ]
  },
  {
   "cell_type": "code",
   "execution_count": 21,
   "metadata": {},
   "outputs": [],
   "source": [
    "x = [{'bbox': [], 'conf':0.0, 'score': 0.0}]\n",
    "\n",
    "if not \"Symbolx\" in temp['3']:\n",
    "    temp['3']['x'] = x"
   ]
  },
  {
   "cell_type": "code",
   "execution_count": 22,
   "metadata": {},
   "outputs": [
    {
     "data": {
      "text/plain": [
       "{'3': {'Symbol': [{'bbox': [126.11, 91.725, 272.3, 187.51],\n",
       "    'conf': 0.55397,\n",
       "    'score': 0.0941215849387928}],\n",
       "  'Vehicles': [{'bbox': [1.5874, 239.1, 632.08, 526.01],\n",
       "    'conf': 0.49467,\n",
       "    'score': -0.009254304183552803}],\n",
       "  'x': [{'bbox': [], 'conf': 0.0, 'score': 0.0}]}}"
      ]
     },
     "execution_count": 22,
     "metadata": {},
     "output_type": "execute_result"
    }
   ],
   "source": [
    "temp"
   ]
  },
  {
   "cell_type": "code",
   "execution_count": null,
   "metadata": {},
   "outputs": [],
   "source": []
  }
 ],
 "metadata": {
  "kernelspec": {
   "display_name": "Python 3",
   "language": "python",
   "name": "python3"
  },
  "language_info": {
   "codemirror_mode": {
    "name": "ipython",
    "version": 3
   },
   "file_extension": ".py",
   "mimetype": "text/x-python",
   "name": "python",
   "nbconvert_exporter": "python",
   "pygments_lexer": "ipython3",
   "version": "3.8.10"
  },
  "orig_nbformat": 4
 },
 "nbformat": 4,
 "nbformat_minor": 2
}
